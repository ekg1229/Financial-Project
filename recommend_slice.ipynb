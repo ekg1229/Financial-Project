{
 "cells": [
  {
   "cell_type": "code",
   "execution_count": 24,
   "id": "c3480566",
   "metadata": {},
   "outputs": [
    {
     "name": "stdout",
     "output_type": "stream",
     "text": [
      "52606\n"
     ]
    }
   ],
   "source": [
    "# Slicing\n",
    "\n",
    "import io\n",
    "import requests\n",
    "\n",
    "url = ('https://github.com/ekg1229/Financial-Project/raw/recommend/Recommand.ipynb?raw=true')\n",
    "\n",
    "contents = requests.get(url).text\n",
    "print(len(contents))"
   ]
  },
  {
   "cell_type": "code",
   "execution_count": 50,
   "id": "4b2f0101",
   "metadata": {
    "scrolled": false
   },
   "outputs": [
    {
     "name": "stdout",
     "output_type": "stream",
     "text": [
      "      \"['참엔지니어링', '일진디스플레이', '금호전기']\\n\",\n",
      "      \"['해성디에스', '한미반도체', '한국전자홀딩스']\\n\",\n",
      "      \"['현대오토에버', '텔코웨어', '크래프톤']\\n\",\n",
      "      \"['휴니드테크놀러지스', '한솔테크닉스', '하이트론씨스템즈']\\n\"\n",
      "  \n"
     ]
    }
   ],
   "source": [
    "print(contents[51712:51880])"
   ]
  },
  {
   "cell_type": "code",
   "execution_count": 53,
   "id": "ce421821",
   "metadata": {},
   "outputs": [
    {
     "name": "stdout",
     "output_type": "stream",
     "text": [
      "      \"['참엔지니어링', '일진디스플레이', '금호전기']\\n\",\n",
      "      \"['해성디에스', '한미반도체', '한국전자홀딩스']\\n\",\n",
      "      \"['현대오토에버', '텔코웨어', '크래프톤']\\n\",\n",
      "      \"['휴니드테크놀러지스', '한솔테크닉스', '하이트론씨스템즈']\\n\"\n",
      "  \"\n"
     ]
    }
   ],
   "source": [
    "info = contents[51712:51880] + \"\\\"\"\n",
    "print(info)"
   ]
  },
  {
   "cell_type": "code",
   "execution_count": null,
   "id": "fab247c5",
   "metadata": {},
   "outputs": [],
   "source": []
  }
 ],
 "metadata": {
  "kernelspec": {
   "display_name": "Python 3 (ipykernel)",
   "language": "python",
   "name": "python3"
  },
  "language_info": {
   "codemirror_mode": {
    "name": "ipython",
    "version": 3
   },
   "file_extension": ".py",
   "mimetype": "text/x-python",
   "name": "python",
   "nbconvert_exporter": "python",
   "pygments_lexer": "ipython3",
   "version": "3.10.5"
  }
 },
 "nbformat": 4,
 "nbformat_minor": 5
}
