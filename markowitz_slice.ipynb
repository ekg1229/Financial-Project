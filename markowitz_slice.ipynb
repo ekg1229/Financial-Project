{
 "cells": [
  {
   "cell_type": "code",
   "execution_count": 11,
   "id": "84d4f8b1",
   "metadata": {},
   "outputs": [
    {
     "name": "stdout",
     "output_type": "stream",
     "text": [
      "138308\n"
     ]
    }
   ],
   "source": [
    "# Slicing\n",
    "\n",
    "import io\n",
    "import requests\n",
    "\n",
    "url = ('https://github.com/ekg1229/Financial-Project/blob/markowitz/%EC%8B%AC%ED%94%84_%EB%A7%88%EC%BD%94%EB%B9%84%EC%B8%A0.ipynb?raw=true')\n",
    "\n",
    "contents = requests.get(url).text\n",
    "print(len(contents))"
   ]
  },
  {
   "cell_type": "code",
   "execution_count": 56,
   "id": "f33b459e",
   "metadata": {},
   "outputs": [
    {
     "name": "stdout",
     "output_type": "stream",
     "text": [
      "\"[4, ['028670', '019170', '011810', '035720'], [0.2415624124477316, 0.2675114079874779, 0.24997676397125754, 0.2409494155935329]]\n"
     ]
    }
   ],
   "source": [
    "print(contents[137107:137236])"
   ]
  },
  {
   "cell_type": "code",
   "execution_count": 57,
   "id": "82abca88",
   "metadata": {},
   "outputs": [
    {
     "name": "stdout",
     "output_type": "stream",
     "text": [
      "\"[4, ['028670', '019170', '011810', '035720'], [0.2415624124477316, 0.2675114079874779, 0.24997676397125754, 0.2409494155935329]]\"\n"
     ]
    }
   ],
   "source": [
    "info = contents[137107:137236] + \"\\\"\"\n",
    "print(info)"
   ]
  },
  {
   "cell_type": "code",
   "execution_count": null,
   "id": "0a278b7a",
   "metadata": {},
   "outputs": [],
   "source": []
  }
 ],
 "metadata": {
  "kernelspec": {
   "display_name": "Python 3",
   "language": "python",
   "name": "python3"
  },
  "language_info": {
   "codemirror_mode": {
    "name": "ipython",
    "version": 3
   },
   "file_extension": ".py",
   "mimetype": "text/x-python",
   "name": "python",
   "nbconvert_exporter": "python",
   "pygments_lexer": "ipython3",
   "version": "3.6.5"
  }
 },
 "nbformat": 4,
 "nbformat_minor": 5
}
