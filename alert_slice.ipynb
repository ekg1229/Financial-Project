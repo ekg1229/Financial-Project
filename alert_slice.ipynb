{
 "cells": [
  {
   "cell_type": "code",
   "execution_count": 10,
   "id": "f489bf70",
   "metadata": {},
   "outputs": [
    {
     "name": "stdout",
     "output_type": "stream",
     "text": [
      "18785\n"
     ]
    }
   ],
   "source": [
    "# Slicing\n",
    "\n",
    "import io\n",
    "import requests\n",
    "\n",
    "url = ('https://github.com/ekg1229/Financial-Project/blob/yr/stock_alert.ipynb?raw=true')\n",
    "\n",
    "contents = requests.get(url).text\n",
    "print(len(contents))"
   ]
  },
  {
   "cell_type": "code",
   "execution_count": 21,
   "id": "391e91a2",
   "metadata": {},
   "outputs": [
    {
     "name": "stdout",
     "output_type": "stream",
     "text": [
      "\"[['019170', '005930', '028670', '010950', '003490'], 26225.0, 26150]\n"
     ]
    }
   ],
   "source": [
    "print(contents[17650:17719])"
   ]
  },
  {
   "cell_type": "code",
   "execution_count": 22,
   "id": "71e779e3",
   "metadata": {},
   "outputs": [
    {
     "name": "stdout",
     "output_type": "stream",
     "text": [
      "\"[['019170', '005930', '028670', '010950', '003490'], 26225.0, 26150]\"\n"
     ]
    }
   ],
   "source": [
    "info = contents[17650:17719] + \"\\\"\"\n",
    "print(info)"
   ]
  },
  {
   "cell_type": "code",
   "execution_count": null,
   "id": "b6e79d50",
   "metadata": {},
   "outputs": [],
   "source": []
  }
 ],
 "metadata": {
  "kernelspec": {
   "display_name": "Python 3 (ipykernel)",
   "language": "python",
   "name": "python3"
  },
  "language_info": {
   "codemirror_mode": {
    "name": "ipython",
    "version": 3
   },
   "file_extension": ".py",
   "mimetype": "text/x-python",
   "name": "python",
   "nbconvert_exporter": "python",
   "pygments_lexer": "ipython3",
   "version": "3.9.7"
  }
 },
 "nbformat": 4,
 "nbformat_minor": 5
}
