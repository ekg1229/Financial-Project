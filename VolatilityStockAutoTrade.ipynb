{
 "cells": [
  {
   "cell_type": "code",
   "execution_count": 1,
   "id": "061002ed",
   "metadata": {},
   "outputs": [],
   "source": [
    "import requests\n",
    "import json\n",
    "import datetime\n",
    "import time\n",
    "import yaml"
   ]
  },
  {
   "cell_type": "code",
   "execution_count": 2,
   "id": "32ccfaad",
   "metadata": {},
   "outputs": [],
   "source": [
    "with open(\"C:\\koreainvestment-autotrade-main\\config.yaml\", encoding='UTF-8') as f:\n",
    "    _cfg = yaml.load(f, Loader=yaml.FullLoader)\n",
    "    \n",
    "APP_KEY = _cfg['APP_KEY']\n",
    "APP_SECRET = _cfg['APP_SECRET']\n",
    "ACCESS_TOKEN = \"\"\n",
    "CANO = _cfg['CANO']\n",
    "ACNT_PRDT_CD = _cfg['ACNT_PRDT_CD']\n",
    "DISCORD_WEBHOOK_URL = _cfg['DISCORD_WEBHOOK_URL']\n",
    "URL_BASE = _cfg['URL_BASE']"
   ]
  },
  {
   "cell_type": "code",
   "execution_count": 3,
   "id": "81dcdd7f",
   "metadata": {},
   "outputs": [],
   "source": [
    "def send_message(msg):\n",
    "    \"\"\"디스코드 메세지 전송\"\"\"\n",
    "    now = datetime.datetime.now()\n",
    "    message = {\"content\": f\"[{now.strftime('%Y-%m-%d %H:%M:%S')}] {str(msg)}\"}\n",
    "    requests.post(DISCORD_WEBHOOK_URL, data=message)\n",
    "    print(message)"
   ]
  },
  {
   "cell_type": "code",
   "execution_count": 4,
   "id": "434dfc7d",
   "metadata": {},
   "outputs": [],
   "source": [
    "def get_access_token():\n",
    "    \"\"\"토큰 발급\"\"\"\n",
    "    headers = {\"content-type\": \"application/json\"}\n",
    "    body = {\"grant_type\": \"client_credentials\",\n",
    "            \"appkey\": APP_KEY,\n",
    "            \"appsecret\": APP_SECRET}\n",
    "    PATH = \"oauth2/tokenP\"\n",
    "    URL = f\"{URL_BASE}/{PATH}\"\n",
    "    res = requests.post(URL, headers=headers, data=json.dumps(body))\n",
    "    ACCESS_TOKEN = res.json()[\"access_token\"]\n",
    "    return ACCESS_TOKEN"
   ]
  },
  {
   "cell_type": "code",
   "execution_count": 5,
   "id": "894663f9",
   "metadata": {},
   "outputs": [],
   "source": [
    "def hashkey(datas):\n",
    "    \"\"\"암호화\"\"\"\n",
    "    PATH = \"uapi/hashkey\"\n",
    "    URL = f\"{URL_BASE}/{PATH}\"\n",
    "    headers = {\n",
    "        'content-Type': 'application/json',\n",
    "        'appKey': APP_KEY,\n",
    "        'appSecret': APP_SECRET,\n",
    "    }\n",
    "    res = requests.post(URL, headers=headers, data=json.dumps(datas))\n",
    "    hashkey = res.json()[\"HASH\"]\n",
    "    return hashkey"
   ]
  },
  {
   "cell_type": "code",
   "execution_count": 6,
   "id": "62061d4a",
   "metadata": {},
   "outputs": [],
   "source": [
    "def get_current_price(code):\n",
    "    \"\"\"현재가 조회\"\"\"\n",
    "    PATH = \"uapi/domestic-stock/v1/quotations/inquire-price\"\n",
    "    URL = f\"{URL_BASE}/{PATH}\"\n",
    "    headers = {\"Content-Type\": \"application/json\",\n",
    "               \"authorization\": f\"Bearer {ACCESS_TOKEN}\",\n",
    "               \"appKey\": APP_KEY,\n",
    "               \"appSecret\": APP_SECRET,\n",
    "               \"tr_id\": \"FHKST01010100\"}\n",
    "    params = {\n",
    "        \"fid_cond_mrkt_div_code\": \"J\",\n",
    "        \"fid_input_iscd\": code,\n",
    "    }\n",
    "    res = requests.get(URL, headers=headers, params=params)\n",
    "    return int(res.json()['output']['stck_prpr'])"
   ]
  },
  {
   "cell_type": "code",
   "execution_count": 7,
   "id": "745def24",
   "metadata": {},
   "outputs": [],
   "source": [
    "def get_target_price(code, select):\n",
    "    \"\"\"변동성 돌파 전략으로 매수 목표가 조회\"\"\"\n",
    "    PATH = \"uapi/domestic-stock/v1/quotations/inquire-daily-price\"\n",
    "    URL = f\"{URL_BASE}/{PATH}\"\n",
    "    headers = {\"Content-Type\": \"application/json\",\n",
    "               \"authorization\": f\"Bearer {ACCESS_TOKEN}\",\n",
    "               \"appKey\": APP_KEY,\n",
    "               \"appSecret\": APP_SECRET,\n",
    "               \"tr_id\": \"FHKST01010400\"}\n",
    "    params = {\n",
    "        \"fid_cond_mrkt_div_code\": \"J\",\n",
    "        \"fid_input_iscd\": code,\n",
    "        \"fid_org_adj_prc\": \"1\",\n",
    "        \"fid_period_div_code\": \"D\"\n",
    "    }\n",
    "    res = requests.get(URL, headers=headers, params=params)\n",
    "    stck_oprc = int(res.json()['output'][0]['stck_oprc'])  # 오늘 시가\n",
    "    stck_hgpr = int(res.json()['output'][1]['stck_hgpr'])  # 전일 고가\n",
    "    stck_lwpr = int(res.json()['output'][1]['stck_lwpr'])  # 전일 저가\n",
    "    stck_range = stck_hgpr - stck_lwpr\n",
    "    \n",
    "    if(select == \"0\"): \n",
    "        k = 0.13\n",
    "        print(k)\n",
    "    elif(select == \"1\"):\n",
    "        k = 0.5\n",
    "        print(k)\n",
    "    else:\n",
    "        k = 0.88\n",
    "        print(k)\n",
    "      \n",
    "    target_price = stck_oprc + (stck_range * k)\n",
    "    \n",
    "    return target_price"
   ]
  },
  {
   "cell_type": "code",
   "execution_count": 8,
   "id": "6f9fd5a8",
   "metadata": {},
   "outputs": [],
   "source": [
    "def get_stock_balance():\n",
    "    \"\"\"주식 잔고조회\"\"\"\n",
    "    PATH = \"uapi/domestic-stock/v1/trading/inquire-balance\"\n",
    "    URL = f\"{URL_BASE}/{PATH}\"\n",
    "    headers = {\"Content-Type\": \"application/json\",\n",
    "               \"authorization\": f\"Bearer {ACCESS_TOKEN}\",\n",
    "               \"appKey\": APP_KEY,\n",
    "               \"appSecret\": APP_SECRET,\n",
    "               \"tr_id\": \"TTTC8434R\",\n",
    "               \"custtype\": \"P\",\n",
    "               }\n",
    "    params = {\n",
    "        \"CANO\": CANO,\n",
    "        \"ACNT_PRDT_CD\": ACNT_PRDT_CD,\n",
    "        \"AFHR_FLPR_YN\": \"N\",\n",
    "        \"OFL_YN\": \"\",\n",
    "        \"INQR_DVSN\": \"02\",\n",
    "        \"UNPR_DVSN\": \"01\",\n",
    "        \"FUND_STTL_ICLD_YN\": \"N\",\n",
    "        \"FNCG_AMT_AUTO_RDPT_YN\": \"N\",\n",
    "        \"PRCS_DVSN\": \"01\",\n",
    "        \"CTX_AREA_FK100\": \"\",\n",
    "        \"CTX_AREA_NK100\": \"\"\n",
    "    }\n",
    "    res = requests.get(URL, headers=headers, params=params)\n",
    "    stock_list = res.json()['output1']\n",
    "    evaluation = res.json()['output2']\n",
    "    stock_dict = {}\n",
    "    send_message(f\"====주식 보유잔고====\")\n",
    "    for stock in stock_list:\n",
    "        if int(stock['hldg_qty']) > 0:\n",
    "            stock_dict[stock['pdno']] = stock['hldg_qty']\n",
    "            send_message(\n",
    "                f\"{stock['prdt_name']}({stock['pdno']}): {stock['hldg_qty']}주\")\n",
    "            time.sleep(0.1)\n",
    "    send_message(f\"주식 평가 금액: {evaluation[0]['scts_evlu_amt']}원\")\n",
    "    time.sleep(0.1)\n",
    "    send_message(f\"평가 손익 합계: {evaluation[0]['evlu_pfls_smtl_amt']}원\")\n",
    "    time.sleep(0.1)\n",
    "    send_message(f\"총 평가 금액: {evaluation[0]['tot_evlu_amt']}원\")\n",
    "    time.sleep(0.1)\n",
    "    send_message(f\"=================\")\n",
    "    return stock_dict"
   ]
  },
  {
   "cell_type": "code",
   "execution_count": 9,
   "id": "7a4a1fdf",
   "metadata": {},
   "outputs": [],
   "source": [
    "def get_balance():\n",
    "    \"\"\"현금 잔고조회\"\"\"\n",
    "    PATH = \"uapi/domestic-stock/v1/trading/inquire-psbl-order\"\n",
    "    URL = f\"{URL_BASE}/{PATH}\"\n",
    "    headers = {\"Content-Type\": \"application/json\",\n",
    "               \"authorization\": f\"Bearer {ACCESS_TOKEN}\",\n",
    "               \"appKey\": APP_KEY,\n",
    "               \"appSecret\": APP_SECRET,\n",
    "               \"tr_id\": \"TTTC8908R\",\n",
    "               \"custtype\": \"P\",\n",
    "               }\n",
    "    params = {\n",
    "        \"CANO\": CANO,\n",
    "        \"ACNT_PRDT_CD\": ACNT_PRDT_CD,\n",
    "        \"PDNO\": \"005930\",\n",
    "        \"ORD_UNPR\": \"65500\",\n",
    "        \"ORD_DVSN\": \"01\",\n",
    "        \"CMA_EVLU_AMT_ICLD_YN\": \"Y\",\n",
    "        \"OVRS_ICLD_YN\": \"Y\"\n",
    "    }\n",
    "    res = requests.get(URL, headers=headers, params=params)\n",
    "    cash = res.json()['output']['ord_psbl_cash']\n",
    "    send_message(f\"주문 가능 현금 잔고: {cash}원\")\n",
    "    return int(cash)"
   ]
  },
  {
   "cell_type": "code",
   "execution_count": 10,
   "id": "2a4d9263",
   "metadata": {},
   "outputs": [],
   "source": [
    "def buy(code, qty):\n",
    "    \"\"\"주식 시장가 매수\"\"\"\n",
    "    PATH = \"uapi/domestic-stock/v1/trading/order-cash\"\n",
    "    URL = f\"{URL_BASE}/{PATH}\"\n",
    "    data = {\n",
    "        \"CANO\": CANO,\n",
    "        \"ACNT_PRDT_CD\": ACNT_PRDT_CD,\n",
    "        \"PDNO\": code,\n",
    "        \"ORD_DVSN\": \"01\",\n",
    "        \"ORD_QTY\": str(int(qty)),\n",
    "        \"ORD_UNPR\": \"0\",\n",
    "    }\n",
    "    headers = {\"Content-Type\": \"application/json\",\n",
    "               \"authorization\": f\"Bearer {ACCESS_TOKEN}\",\n",
    "               \"appKey\": APP_KEY,\n",
    "               \"appSecret\": APP_SECRET,\n",
    "               #\"tr_id\": \"TTTC0802U\",\n",
    "               \"tr_id\":\"VTTC0802U\",\n",
    "               \"custtype\": \"P\",\n",
    "               \"hashkey\": hashkey(data)\n",
    "               }\n",
    "    res = requests.post(URL, headers=headers, data=json.dumps(data))\n",
    "    if res.json()['rt_cd'] == '0':\n",
    "        send_message(f\"[매수 성공]{str(res.json())}\")\n",
    "        return True\n",
    "    else:\n",
    "        send_message(f\"[매수 실패]{str(res.json())}\")\n",
    "        return False"
   ]
  },
  {
   "cell_type": "code",
   "execution_count": 20,
   "id": "b9d68336",
   "metadata": {},
   "outputs": [
    {
     "name": "stdout",
     "output_type": "stream",
     "text": [
      "모의투자 진행을 원하시는 종목 이름를 개수와 상관없이 입력하시오: 005930 019170 035720\n"
     ]
    },
    {
     "data": {
      "text/plain": [
       "['005930', '019170', '035720']"
      ]
     },
     "execution_count": 20,
     "metadata": {},
     "output_type": "execute_result"
    }
   ],
   "source": [
    "code_list = input(\"모의투자 진행을 원하시는 종목 이름를 개수와 상관없이 입력하시오: \").split()\n",
    "code_list"
   ]
  },
  {
   "cell_type": "code",
   "execution_count": 21,
   "id": "25785c1e",
   "metadata": {},
   "outputs": [
    {
     "name": "stdout",
     "output_type": "stream",
     "text": [
      "종목코드에 따른 수량을 순서대로 적으시오: 1 2 3\n"
     ]
    },
    {
     "data": {
      "text/plain": [
       "['1', '2', '3']"
      ]
     },
     "execution_count": 21,
     "metadata": {},
     "output_type": "execute_result"
    }
   ],
   "source": [
    "#map(int, input().split())\n",
    "buy_qty = list(input(\"종목코드에 따른 수량을 순서대로 적으시오: \").split())\n",
    "#buy_qty = input(\"종목코드에 따른 수량(순서대로): \").split()\n",
    "buy_qty"
   ]
  },
  {
   "cell_type": "code",
   "execution_count": 28,
   "id": "1f2c9bd4",
   "metadata": {},
   "outputs": [
    {
     "name": "stdout",
     "output_type": "stream",
     "text": [
      "당신의 위험 회피성향은?0\n",
      "{'content': '[2022-11-16 15:54:47] ===국내 주식 자동매매 프로그램을 시작합니다==='}\n",
      "{'content': '[2022-11-16 15:54:48] 주식 장이 마감되었습니다.'}\n"
     ]
    }
   ],
   "source": [
    "# 자동매매 시작\n",
    "try:\n",
    "    #API 사용을 위해 발급받는 토큰\n",
    "    ACCESS_TOKEN = get_access_token()\n",
    "    \n",
    "    bought_list = [] # 매수 완료된 종목 리스트\n",
    "\n",
    "    target_buy_count = 100 # 매수가능 수\n",
    "    buy_percent = 0.33 # 보유한 전체 현금에서 몇%를 한 종목당 매수 금액으로 사용할 것인지에 대한 비율\n",
    "\n",
    "    select = input('당신의 위험 회피성향은?')\n",
    "    \n",
    "    send_message(f\"===국내 주식 자동매매 프로그램을 시작합니다===\")\n",
    "    t_now = datetime.datetime.now()\n",
    "    t_start = t_now.replace(hour=9, minute=0, second=0, microsecond=0)\n",
    "    t_exit = t_now.replace(hour=15, minute=30, second=0,microsecond=0)\n",
    "    today = datetime.datetime.today().weekday()\n",
    "    if today == 5 or today == 6:  # 토요일이나 일요일이면 프로그램 자동 종료\n",
    "        send_message(\"주말이므로 매매가 불가능합니다.\")\n",
    "    if t_start < t_now < t_exit :\n",
    "        for code in code_list:\n",
    "            if len(bought_list) < target_buy_count:\n",
    "                #buy_qty = 1\n",
    "                target_price = get_target_price(code, select)# 목표 가격\n",
    "                current_price = get_current_price(code)# 현재 가격\n",
    "                    \n",
    "                if target_price < current_price: # 목표 가격보다 현재 가격이 더 크면 매수 추천\n",
    "                    for buyNum in buy_qty:\n",
    "                        send_message(f\"{code} 목표가 달성({target_price} < {current_price}) 매수를 시도합니다.\")\n",
    "                        result = buy(sym, buyNum)\n",
    "                    if result:\n",
    "                        soldout = False\n",
    "                else:\n",
    "                    send_message(f\"{code} 목표가 달성 실패({target_price} > {current_price}) 매수를 실패하였습니다.\")\n",
    "                    if result:\n",
    "                        soldout = False\n",
    "                time.sleep(1)\n",
    "        time.sleep(1)\n",
    "    if (t_exit < t_now)|(t_start > t_now):  # PM 03:30 ~ :프로그램 종료\n",
    "        send_message(\"주식 장이 마감되었습니다.\")    \n",
    "\n",
    "except Exception as e:\n",
    "    send_message(f\"오류발생.\", e)\n",
    "    time.sleep(1)\n"
   ]
  },
  {
   "cell_type": "code",
   "execution_count": 27,
   "id": "83c64c64",
   "metadata": {},
   "outputs": [
    {
     "name": "stdout",
     "output_type": "stream",
     "text": [
      "[['028670', '019170', '011810', '005930'], ['1', '2', '3', '4'], 28308.5, 30300]\n"
     ]
    }
   ],
   "source": [
    "VAutoTrade_info = []\n",
    "\n",
    "VAutoTrade_info.append(code_list) # 종목\n",
    "VAutoTrade_info.append(buy_qty) #종목 당 매수 개수\n",
    "VAutoTrade_info.append(target_price) # 목표가\n",
    "VAutoTrade_info.append(current_price) # 현재가\n",
    "\n",
    "print(VAutoTrade_info)"
   ]
  },
  {
   "cell_type": "code",
   "execution_count": 25,
   "id": "f52807d7",
   "metadata": {},
   "outputs": [
    {
     "name": "stdout",
     "output_type": "stream",
     "text": [
      "{'VAutoTrade': {'stk_cd': ['005930', '019170', '035720'], 'stk_buyN': ['1', '2', '3'], 'target_price': 62850.0, 'current_price': 62700}}\n"
     ]
    }
   ],
   "source": [
    "VAT_dict = {\"VAutoTrade\":{\"stk_cd\":code_list, \"stk_buyN\":buy_qty, \"target_price\":target_price, \"current_price\":current_price}}\n",
    "print(VAT_dict)"
   ]
  },
  {
   "cell_type": "code",
   "execution_count": 27,
   "id": "62122177",
   "metadata": {},
   "outputs": [
    {
     "name": "stdout",
     "output_type": "stream",
     "text": [
      "{\n",
      "    \"VAutoTrade\": {\n",
      "        \"stk_cd\": [\n",
      "            \"005930\",\n",
      "            \"019170\",\n",
      "            \"035720\"\n",
      "        ],\n",
      "        \"stk_buyN\": [\n",
      "            \"1\",\n",
      "            \"2\",\n",
      "            \"3\"\n",
      "        ],\n",
      "        \"target_price\": 62850.0,\n",
      "        \"current_price\": 62700\n",
      "    }\n",
      "}\n"
     ]
    }
   ],
   "source": [
    "import json\n",
    "\n",
    "VAT_json = json.dumps(VAT_dict, indent=4)\n",
    "print(VAT_json)"
   ]
  },
  {
   "cell_type": "code",
   "execution_count": null,
   "id": "ee2fade4",
   "metadata": {},
   "outputs": [],
   "source": []
  }
 ],
 "metadata": {
  "kernelspec": {
   "display_name": "Python 3 (ipykernel)",
   "language": "python",
   "name": "python3"
  },
  "language_info": {
   "codemirror_mode": {
    "name": "ipython",
    "version": 3
   },
   "file_extension": ".py",
   "mimetype": "text/x-python",
   "name": "python",
   "nbconvert_exporter": "python",
   "pygments_lexer": "ipython3",
   "version": "3.9.12"
  }
 },
 "nbformat": 4,
 "nbformat_minor": 5
}
