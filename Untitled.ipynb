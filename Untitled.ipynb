{
 "cells": [
  {
   "cell_type": "code",
   "execution_count": null,
   "id": "5d766ee7",
   "metadata": {},
   "outputs": [],
   "source": [
    "# json 으로 변환\n",
    "import json\n",
    "\n",
    "contents = requests.get()\n",
    "\n",
    "# with open(\"심프_마코비츠.ipynb\", mode=\"r\", encoding=\"utf-8\") as f:\n",
    "#     myfile = json.loads(f.read())\n",
    "\n",
    "# myfile_read = json.dumps(myfile, indent=2)\n",
    "# print(myfile_read)"
   ]
  }
 ],
 "metadata": {
  "kernelspec": {
   "display_name": "Python 3",
   "language": "python",
   "name": "python3"
  },
  "language_info": {
   "codemirror_mode": {
    "name": "ipython",
    "version": 3
   },
   "file_extension": ".py",
   "mimetype": "text/x-python",
   "name": "python",
   "nbconvert_exporter": "python",
   "pygments_lexer": "ipython3",
   "version": "3.6.5"
  }
 },
 "nbformat": 4,
 "nbformat_minor": 5
}
