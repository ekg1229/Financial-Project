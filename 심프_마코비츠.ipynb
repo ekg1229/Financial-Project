{
 "cells": [
  {
   "cell_type": "code",
   "execution_count": 1,
   "id": "21b087e6",
   "metadata": {},
   "outputs": [],
   "source": [
    "import numpy as np\n",
    "import pandas as pd\n",
    "import matplotlib.pyplot as plt\n",
    "from sklearn.neighbors import KDTree\n",
    "from pandas.plotting import scatter_matrix\n",
    "from scipy.spatial import ConvexHull\n",
    "\n",
    "from datetime import datetime, timedelta, date\n",
    "\n",
    "np.random.seed(0)"
   ]
  },
  {
   "cell_type": "code",
   "execution_count": 2,
   "id": "064db4ef",
   "metadata": {},
   "outputs": [
    {
     "name": "stdout",
     "output_type": "stream",
     "text": [
      "Requirement already satisfied: pykrx in c:\\users\\yeeju\\appdata\\local\\programs\\python\\python36\\lib\\site-packages (1.0.39)\n",
      "Requirement already satisfied: pandas in c:\\users\\yeeju\\appdata\\local\\programs\\python\\python36\\lib\\site-packages (from pykrx) (1.1.5)\n",
      "Requirement already satisfied: datetime in c:\\users\\yeeju\\appdata\\local\\programs\\python\\python36\\lib\\site-packages (from pykrx) (4.7)\n",
      "Requirement already satisfied: xlrd in c:\\users\\yeeju\\appdata\\local\\programs\\python\\python36\\lib\\site-packages (from pykrx) (2.0.1)\n",
      "Requirement already satisfied: deprecated in c:\\users\\yeeju\\appdata\\local\\programs\\python\\python36\\lib\\site-packages (from pykrx) (1.2.13)\n",
      "Requirement already satisfied: requests in c:\\users\\yeeju\\appdata\\local\\programs\\python\\python36\\lib\\site-packages (from pykrx) (2.27.1)\n",
      "Requirement already satisfied: numpy in c:\\users\\yeeju\\appdata\\local\\programs\\python\\python36\\lib\\site-packages (from pykrx) (1.19.5)\n",
      "Requirement already satisfied: pytz in c:\\users\\yeeju\\appdata\\local\\programs\\python\\python36\\lib\\site-packages (from datetime->pykrx) (2022.6)\n",
      "Requirement already satisfied: zope.interface in c:\\users\\yeeju\\appdata\\local\\programs\\python\\python36\\lib\\site-packages (from datetime->pykrx) (5.5.1)\n",
      "Requirement already satisfied: wrapt<2,>=1.10 in c:\\users\\yeeju\\appdata\\local\\programs\\python\\python36\\lib\\site-packages (from deprecated->pykrx) (1.14.1)\n",
      "Requirement already satisfied: python-dateutil>=2.7.3 in c:\\users\\yeeju\\appdata\\local\\programs\\python\\python36\\lib\\site-packages (from pandas->pykrx) (2.8.2)\n",
      "Requirement already satisfied: certifi>=2017.4.17 in c:\\users\\yeeju\\appdata\\local\\programs\\python\\python36\\lib\\site-packages (from requests->pykrx) (2022.9.24)\n",
      "Requirement already satisfied: urllib3<1.27,>=1.21.1 in c:\\users\\yeeju\\appdata\\local\\programs\\python\\python36\\lib\\site-packages (from requests->pykrx) (1.26.12)\n",
      "Requirement already satisfied: charset-normalizer~=2.0.0 in c:\\users\\yeeju\\appdata\\local\\programs\\python\\python36\\lib\\site-packages (from requests->pykrx) (2.0.12)\n",
      "Requirement already satisfied: idna<4,>=2.5 in c:\\users\\yeeju\\appdata\\local\\programs\\python\\python36\\lib\\site-packages (from requests->pykrx) (3.4)\n",
      "Requirement already satisfied: six>=1.5 in c:\\users\\yeeju\\appdata\\local\\programs\\python\\python36\\lib\\site-packages (from python-dateutil>=2.7.3->pandas->pykrx) (1.16.0)\n",
      "Requirement already satisfied: setuptools in c:\\users\\yeeju\\appdata\\local\\programs\\python\\python36\\lib\\site-packages (from zope.interface->datetime->pykrx) (39.0.1)\n"
     ]
    }
   ],
   "source": [
    "!pip install pykrx\n",
    "from pykrx import stock"
   ]
  },
  {
   "cell_type": "code",
   "execution_count": 3,
   "id": "d6d685b8",
   "metadata": {},
   "outputs": [
    {
     "name": "stdout",
     "output_type": "stream",
     "text": [
      "Requirement already satisfied: finance-datareader in c:\\users\\yeeju\\appdata\\local\\programs\\python\\python36\\lib\\site-packages (0.9.50)\n",
      "Requirement already satisfied: requests>=2.3.0 in c:\\users\\yeeju\\appdata\\local\\programs\\python\\python36\\lib\\site-packages (from finance-datareader) (2.27.1)\n",
      "Requirement already satisfied: pandas>=0.19.2 in c:\\users\\yeeju\\appdata\\local\\programs\\python\\python36\\lib\\site-packages (from finance-datareader) (1.1.5)\n",
      "Requirement already satisfied: tqdm in c:\\users\\yeeju\\appdata\\local\\programs\\python\\python36\\lib\\site-packages (from finance-datareader) (4.64.1)\n",
      "Requirement already satisfied: requests-file in c:\\users\\yeeju\\appdata\\local\\programs\\python\\python36\\lib\\site-packages (from finance-datareader) (1.5.1)\n",
      "Requirement already satisfied: lxml in c:\\users\\yeeju\\appdata\\local\\programs\\python\\python36\\lib\\site-packages (from finance-datareader) (4.9.1)\n",
      "Requirement already satisfied: python-dateutil>=2.7.3 in c:\\users\\yeeju\\appdata\\local\\programs\\python\\python36\\lib\\site-packages (from pandas>=0.19.2->finance-datareader) (2.8.2)\n",
      "Requirement already satisfied: pytz>=2017.2 in c:\\users\\yeeju\\appdata\\local\\programs\\python\\python36\\lib\\site-packages (from pandas>=0.19.2->finance-datareader) (2022.6)\n",
      "Requirement already satisfied: numpy>=1.15.4 in c:\\users\\yeeju\\appdata\\local\\programs\\python\\python36\\lib\\site-packages (from pandas>=0.19.2->finance-datareader) (1.19.5)\n",
      "Requirement already satisfied: idna<4,>=2.5 in c:\\users\\yeeju\\appdata\\local\\programs\\python\\python36\\lib\\site-packages (from requests>=2.3.0->finance-datareader) (3.4)\n",
      "Requirement already satisfied: certifi>=2017.4.17 in c:\\users\\yeeju\\appdata\\local\\programs\\python\\python36\\lib\\site-packages (from requests>=2.3.0->finance-datareader) (2022.9.24)\n",
      "Requirement already satisfied: urllib3<1.27,>=1.21.1 in c:\\users\\yeeju\\appdata\\local\\programs\\python\\python36\\lib\\site-packages (from requests>=2.3.0->finance-datareader) (1.26.12)\n",
      "Requirement already satisfied: charset-normalizer~=2.0.0 in c:\\users\\yeeju\\appdata\\local\\programs\\python\\python36\\lib\\site-packages (from requests>=2.3.0->finance-datareader) (2.0.12)\n",
      "Requirement already satisfied: six in c:\\users\\yeeju\\appdata\\local\\programs\\python\\python36\\lib\\site-packages (from requests-file->finance-datareader) (1.16.0)\n",
      "Requirement already satisfied: importlib-resources in c:\\users\\yeeju\\appdata\\local\\programs\\python\\python36\\lib\\site-packages (from tqdm->finance-datareader) (5.4.0)\n",
      "Requirement already satisfied: colorama in c:\\users\\yeeju\\appdata\\local\\programs\\python\\python36\\lib\\site-packages (from tqdm->finance-datareader) (0.4.5)\n",
      "Requirement already satisfied: zipp>=3.1.0 in c:\\users\\yeeju\\appdata\\local\\programs\\python\\python36\\lib\\site-packages (from importlib-resources->tqdm->finance-datareader) (3.6.0)\n",
      "0.9.50\n"
     ]
    }
   ],
   "source": [
    "!pip install -U finance-datareader\n",
    "import FinanceDataReader as web\n",
    "print(web.__version__)"
   ]
  },
  {
   "cell_type": "code",
   "execution_count": 4,
   "id": "65703ee0",
   "metadata": {},
   "outputs": [],
   "source": [
    "# 데이터 가져오기\n",
    "\n",
    "def stock_reader(kospi_df, stock_name, code_list, df='p', n=0):\n",
    "\n",
    "    if n == 0:\n",
    "        n = len(code_list)\n",
    "\n",
    "    stock_df = pd.DataFrame()\n",
    "    stock_df['Date'] = kospi_df['Date']\n",
    "    print(\"동기간 KOSPI 생성일수 : \", len(kospi_df['Date']))\n",
    "    normal_cnt = 0\n",
    "    err_cnt = 0\n",
    "    code_nm_list = []\n",
    "    symbol_list = []\n",
    "    \n",
    "    print(\"n\", n)\n",
    "\n",
    "    for code in code_list:\n",
    "        stock = df_krx[df_krx.Code == code]\n",
    "        code_nm = list(stock.Name)[0]\n",
    "        symbol = list(stock.Code)[0]\n",
    "\n",
    "\n",
    "        try:\n",
    "            temp = web.DataReader(code, start_date, end_date)\n",
    "\n",
    "            # 데이터일수가 시장보다 작으면 skip(최근 상장 데이터로 판단)\n",
    "            if len(temp) < len(kospi_df['Date']):\n",
    "                err_cnt += 1\n",
    "                print(\"skip : (\",err_cnt,\")\", code_list[code], code_nm, start_date, end_date, \", 건수 : \", len(temp))\n",
    "                continue\n",
    "\n",
    "            temp.reset_index(inplace = True)\n",
    "            temp_df = pd.merge(temp[['Date','Close', 'Open']], kospi_df[['Date']], on='Date', how='right')\n",
    "\n",
    "            if df == 'v':\n",
    "                stock_df[code_nm] = temp_df.Close - temp_df.Open #variation\n",
    "            elif df == 'p':\n",
    "                stock_df[code_nm] = temp_df.Close # price\n",
    "\n",
    "            normal_cnt += 1\n",
    "            code_nm_list.append(code_nm)\n",
    "            symbol_list.append(symbol)\n",
    "            print(\"정상 : (\",normal_cnt,\")\", code, code_nm, start_date, end_date, \", 건수 : \", len(temp), \"->\", len(stock_df))\n",
    "        except:\n",
    "            err_cnt += 1\n",
    "            print(\"skip : (\",err_cnt,\")\", code, code_nm, start_date, end_date, \", 건수 : \", len(temp))\n",
    "\n",
    "        if normal_cnt == n:\n",
    "            print('총', n,'개 생성 설정 / ', normal_cnt, '개 생성 완료')\n",
    "            break # n개 종목 생성시 종료\n",
    "\n",
    "        # 데이터 정렬\n",
    "        stock_df.sort_values('Date', ascending=True, inplace=True) # ascending=True 오름차순, False 내림차순\n",
    "        # 결측치 채우기\n",
    "        stock_df.fillna(method='ffill', inplace=True)\n",
    "\n",
    "    return stock_df, code_nm_list, symbol_list"
   ]
  },
  {
   "cell_type": "code",
   "execution_count": 5,
   "id": "674c46ed",
   "metadata": {},
   "outputs": [
    {
     "name": "stdout",
     "output_type": "stream",
     "text": [
      "3\n",
      "삼성전자\n",
      "카카오\n",
      "대한항공\n",
      "['005930', '035720', '003490']\n"
     ]
    }
   ],
   "source": [
    "num_stock = int(input()) # 생성할 종목수 지정\n",
    "stock_name = []\n",
    "\n",
    "for i in range(num_stock):\n",
    "    stock_name.append(input()) # 종목 이름 종목 수만큼 입력\n",
    "\n",
    "code_list = [] # 종목 코드 리스트\n",
    "tickers = stock.get_market_ticker_list(market=\"KOSPI\")\n",
    "for i in range(num_stock):\n",
    "    for ticker in tickers:\n",
    "        if stock_name[i] == stock.get_market_ticker_name(ticker):\n",
    "            code_list.append(ticker)\n",
    "            \n",
    "print(code_list)"
   ]
  },
  {
   "cell_type": "code",
   "execution_count": 6,
   "id": "f4b03450",
   "metadata": {},
   "outputs": [
    {
     "name": "stdout",
     "output_type": "stream",
     "text": [
      "2021-11-15 2022-11-15\n",
      "0.9.50\n",
      "        Code        ISU_CD      Name Market   Dept   Close ChangeCode  \\\n",
      "0     005930  KR7005930003      삼성전자  KOSPI          62200          2   \n",
      "1     373220  KR7373220003  LG에너지솔루션  KOSPI         599000          1   \n",
      "2     000660  KR7000660001    SK하이닉스  KOSPI          91300          2   \n",
      "3     207940  KR7207940008  삼성바이오로직스  KOSPI         880000          2   \n",
      "4     051910  KR7051910008      LG화학  KOSPI         704000          2   \n",
      "...      ...           ...       ...    ...    ...     ...        ...   \n",
      "2666  288490  KR7288490006     나라소프트  KONEX  일반기업부      63          5   \n",
      "2667  267810  KR7267810000        앙츠  KONEX  일반기업부    1315          1   \n",
      "2668  215050  KR7215050006   비엔디생활건강  KONEX  일반기업부     912          0   \n",
      "2669  267060  KR7267060002     명진홀딩스  KONEX  일반기업부     181          0   \n",
      "2670  329020  KR7329020002      오션스톤  KONEX  일반기업부    1800          0   \n",
      "\n",
      "      Changes  ChagesRatio    Open    High     Low   Volume        Amount  \\\n",
      "0        -200        -0.32   62400   62700   61700  8955649  556735686000   \n",
      "1        3000         0.50  599000  603000  585000   191882  114116761000   \n",
      "2        -300        -0.33   92000   92400   90300  1619189  148095313400   \n",
      "3      -26000        -2.87  906000  907000  874000    39795   35213391000   \n",
      "4       -6000        -0.85  700000  713000  690000   212551  148859543000   \n",
      "...       ...          ...     ...     ...     ...      ...           ...   \n",
      "2666      -10       -13.70      73      73      63    78023       5019994   \n",
      "2667      150        12.88    1315    1315    1315        1          1315   \n",
      "2668        0         0.00       0       0       0        0             0   \n",
      "2669        0         0.00       0       0       0        0             0   \n",
      "2670        0         0.00       0       0       0        0             0   \n",
      "\n",
      "               Marcap      Stocks MarketId  \n",
      "0     371320474610000  5969782550      STK  \n",
      "1     140166000000000   234000000      STK  \n",
      "2      66466615924500   728002365      STK  \n",
      "3      62633120000000    71174000      STK  \n",
      "4      49697009472000    70592343      STK  \n",
      "...               ...         ...      ...  \n",
      "2666       2403261000    38147000      KNX  \n",
      "2667       2349905000     1787000      KNX  \n",
      "2668       1934959392     2121666      KNX  \n",
      "2669       1654666524     9141804      KNX  \n",
      "2670       1503273600      835152      KNX  \n",
      "\n",
      "[2671 rows x 17 columns]\n"
     ]
    }
   ],
   "source": [
    "start_date = date.today() - timedelta(days=366)\n",
    "end_date = date.today() - timedelta(days=1)\n",
    "\n",
    "print(start_date, end_date)\n",
    "print(web.__version__)\n",
    "\n",
    "# 한국 거래소 상장종목 전체\n",
    "# 용도 : 코드와 종목명 가져오기\n",
    "df_krx = web.StockListing('KRX')\n",
    "print(df_krx)\n",
    "\n",
    "kospi_df = web.DataReader('KS11', start_date, end_date)\n",
    "kospi_df.reset_index(inplace = True)"
   ]
  },
  {
   "cell_type": "code",
   "execution_count": 7,
   "id": "9948682e",
   "metadata": {
    "scrolled": true
   },
   "outputs": [
    {
     "name": "stdout",
     "output_type": "stream",
     "text": [
      "동기간 KOSPI 생성일수 :  245\n",
      "n 3\n",
      "정상 : ( 1 ) 005930 삼성전자 2021-11-15 2022-11-15 , 건수 :  248 -> 245\n",
      "정상 : ( 2 ) 035720 카카오 2021-11-15 2022-11-15 , 건수 :  248 -> 245\n",
      "정상 : ( 3 ) 003490 대한항공 2021-11-15 2022-11-15 , 건수 :  248 -> 245\n",
      "총 3 개 생성 설정 /  3 개 생성 완료\n"
     ]
    }
   ],
   "source": [
    "stock_df, code_nm_list, symbol_list = stock_reader(kospi_df, stock_name, code_list, 'p', num_stock) # v :variation, p : price(close)"
   ]
  },
  {
   "cell_type": "code",
   "execution_count": 8,
   "id": "9a78107d",
   "metadata": {},
   "outputs": [
    {
     "name": "stdout",
     "output_type": "stream",
     "text": [
      "             삼성전자     카카오   대한항공\n",
      "Date                            \n",
      "2021-11-15  71400  129000  30400\n",
      "2021-11-16  71300  127500  30450\n",
      "2021-11-17  70700  125000  29850\n",
      "2021-11-18  70200  124500  29400\n",
      "2021-11-19  71200  127000  29650\n",
      "...           ...     ...    ...\n",
      "2022-11-08  61800   51500  24650\n",
      "2022-11-09  62000   52100  24700\n",
      "2022-11-10  60400   50800  24550\n",
      "2022-11-11  62900   58700  26500\n",
      "2022-11-14  61900   58500  25800\n",
      "\n",
      "[245 rows x 3 columns]\n"
     ]
    }
   ],
   "source": [
    "stock_df.dropna(inplace=True)\n",
    "data = stock_df.set_index('Date')\n",
    "\n",
    "print(data)"
   ]
  },
  {
   "cell_type": "code",
   "execution_count": 9,
   "id": "8574cbf5",
   "metadata": {},
   "outputs": [
    {
     "name": "stderr",
     "output_type": "stream",
     "text": [
      "findfont: Font family ['NanumBarunGothic'] not found. Falling back to DejaVu Sans.\n",
      "findfont: Font family ['NanumBarunGothic'] not found. Falling back to DejaVu Sans.\n",
      "c:\\users\\yeeju\\appdata\\local\\programs\\python\\python36\\lib\\site-packages\\matplotlib\\backends\\backend_agg.py:238: RuntimeWarning: Glyph 49340 missing from current font.\n",
      "  font.set_text(s, 0.0, flags=flags)\n",
      "c:\\users\\yeeju\\appdata\\local\\programs\\python\\python36\\lib\\site-packages\\matplotlib\\backends\\backend_agg.py:238: RuntimeWarning: Glyph 49457 missing from current font.\n",
      "  font.set_text(s, 0.0, flags=flags)\n",
      "c:\\users\\yeeju\\appdata\\local\\programs\\python\\python36\\lib\\site-packages\\matplotlib\\backends\\backend_agg.py:238: RuntimeWarning: Glyph 51204 missing from current font.\n",
      "  font.set_text(s, 0.0, flags=flags)\n",
      "c:\\users\\yeeju\\appdata\\local\\programs\\python\\python36\\lib\\site-packages\\matplotlib\\backends\\backend_agg.py:238: RuntimeWarning: Glyph 51088 missing from current font.\n",
      "  font.set_text(s, 0.0, flags=flags)\n",
      "c:\\users\\yeeju\\appdata\\local\\programs\\python\\python36\\lib\\site-packages\\matplotlib\\backends\\backend_agg.py:238: RuntimeWarning: Glyph 52852 missing from current font.\n",
      "  font.set_text(s, 0.0, flags=flags)\n",
      "c:\\users\\yeeju\\appdata\\local\\programs\\python\\python36\\lib\\site-packages\\matplotlib\\backends\\backend_agg.py:238: RuntimeWarning: Glyph 50724 missing from current font.\n",
      "  font.set_text(s, 0.0, flags=flags)\n",
      "c:\\users\\yeeju\\appdata\\local\\programs\\python\\python36\\lib\\site-packages\\matplotlib\\backends\\backend_agg.py:238: RuntimeWarning: Glyph 45824 missing from current font.\n",
      "  font.set_text(s, 0.0, flags=flags)\n",
      "c:\\users\\yeeju\\appdata\\local\\programs\\python\\python36\\lib\\site-packages\\matplotlib\\backends\\backend_agg.py:238: RuntimeWarning: Glyph 54620 missing from current font.\n",
      "  font.set_text(s, 0.0, flags=flags)\n",
      "c:\\users\\yeeju\\appdata\\local\\programs\\python\\python36\\lib\\site-packages\\matplotlib\\backends\\backend_agg.py:238: RuntimeWarning: Glyph 54637 missing from current font.\n",
      "  font.set_text(s, 0.0, flags=flags)\n",
      "c:\\users\\yeeju\\appdata\\local\\programs\\python\\python36\\lib\\site-packages\\matplotlib\\backends\\backend_agg.py:238: RuntimeWarning: Glyph 44277 missing from current font.\n",
      "  font.set_text(s, 0.0, flags=flags)\n",
      "c:\\users\\yeeju\\appdata\\local\\programs\\python\\python36\\lib\\site-packages\\matplotlib\\backends\\backend_agg.py:201: RuntimeWarning: Glyph 49340 missing from current font.\n",
      "  font.set_text(s, 0, flags=flags)\n",
      "c:\\users\\yeeju\\appdata\\local\\programs\\python\\python36\\lib\\site-packages\\matplotlib\\backends\\backend_agg.py:201: RuntimeWarning: Glyph 49457 missing from current font.\n",
      "  font.set_text(s, 0, flags=flags)\n",
      "c:\\users\\yeeju\\appdata\\local\\programs\\python\\python36\\lib\\site-packages\\matplotlib\\backends\\backend_agg.py:201: RuntimeWarning: Glyph 51204 missing from current font.\n",
      "  font.set_text(s, 0, flags=flags)\n",
      "c:\\users\\yeeju\\appdata\\local\\programs\\python\\python36\\lib\\site-packages\\matplotlib\\backends\\backend_agg.py:201: RuntimeWarning: Glyph 51088 missing from current font.\n",
      "  font.set_text(s, 0, flags=flags)\n",
      "c:\\users\\yeeju\\appdata\\local\\programs\\python\\python36\\lib\\site-packages\\matplotlib\\backends\\backend_agg.py:201: RuntimeWarning: Glyph 52852 missing from current font.\n",
      "  font.set_text(s, 0, flags=flags)\n",
      "c:\\users\\yeeju\\appdata\\local\\programs\\python\\python36\\lib\\site-packages\\matplotlib\\backends\\backend_agg.py:201: RuntimeWarning: Glyph 50724 missing from current font.\n",
      "  font.set_text(s, 0, flags=flags)\n",
      "c:\\users\\yeeju\\appdata\\local\\programs\\python\\python36\\lib\\site-packages\\matplotlib\\backends\\backend_agg.py:201: RuntimeWarning: Glyph 45824 missing from current font.\n",
      "  font.set_text(s, 0, flags=flags)\n",
      "c:\\users\\yeeju\\appdata\\local\\programs\\python\\python36\\lib\\site-packages\\matplotlib\\backends\\backend_agg.py:201: RuntimeWarning: Glyph 54620 missing from current font.\n",
      "  font.set_text(s, 0, flags=flags)\n",
      "c:\\users\\yeeju\\appdata\\local\\programs\\python\\python36\\lib\\site-packages\\matplotlib\\backends\\backend_agg.py:201: RuntimeWarning: Glyph 54637 missing from current font.\n",
      "  font.set_text(s, 0, flags=flags)\n",
      "c:\\users\\yeeju\\appdata\\local\\programs\\python\\python36\\lib\\site-packages\\matplotlib\\backends\\backend_agg.py:201: RuntimeWarning: Glyph 44277 missing from current font.\n",
      "  font.set_text(s, 0, flags=flags)\n"
     ]
    },
    {
     "data": {
      "image/png": "[encoded data removed]",
      "text/plain": [
       "<Figure size 432x288 with 9 Axes>"
      ]
     },
     "metadata": {
      "needs_background": "light"
     },
     "output_type": "display_data"
    }
   ],
   "source": [
    "# 종목별 상관계수\n",
    "scatter_matrix(data, alpha=0.2, diagonal='kde')\n",
    "plt.show()"
   ]
  },
  {
   "cell_type": "code",
   "execution_count": 10,
   "id": "ea28e194",
   "metadata": {},
   "outputs": [
    {
     "name": "stdout",
     "output_type": "stream",
     "text": [
      "[0.31824284 0.35242896 0.3293282 ]\n"
     ]
    }
   ],
   "source": [
    "# 현재 포트폴리오 설정 (랜덤 Weight로 산출)\n",
    "num_assets = np.size(code_nm_list)\n",
    "cur_value = (1e4-5e3)*np.random.rand(num_assets,1) + 5e3        \n",
    "tot_value = np.sum(cur_value)\n",
    "weights = cur_value.ravel()/float(tot_value)\n",
    "print(weights)"
   ]
  },
  {
   "cell_type": "code",
   "execution_count": 11,
   "id": "29d638ee",
   "metadata": {},
   "outputs": [
    {
     "name": "stdout",
     "output_type": "stream",
     "text": [
      "[7.03460340e+07 2.12704675e+08 2.28061781e+07]\n"
     ]
    }
   ],
   "source": [
    "#compute portfolio risk\n",
    "Sigma = data.cov().values\n",
    "Corr = data.corr().values\n",
    "\n",
    "print(np.dot(Sigma, weights))\n",
    "volatility = np.sqrt(np.dot(weights.T, np.dot(Sigma, weights)))"
   ]
  },
  {
   "cell_type": "code",
   "execution_count": 12,
   "id": "f6262858",
   "metadata": {},
   "outputs": [
    {
     "name": "stderr",
     "output_type": "stream",
     "text": [
      "findfont: Font family ['NanumBarunGothic'] not found. Falling back to DejaVu Sans.\n"
     ]
    },
    {
     "data": {
      "image/png": "[encoded data removed]",
      "text/plain": [
       "<Figure size 432x288 with 2 Axes>"
      ]
     },
     "metadata": {
      "needs_background": "light"
     },
     "output_type": "display_data"
    }
   ],
   "source": [
    "# 종목별 상관관계 Matrix\n",
    "plt.figure()\n",
    "plt.title('Correlation Matrix')        \n",
    "plt.imshow(Corr, cmap=plt.cm.Blues)\n",
    "plt.xticks(range(len(code_nm_list)),data.columns)\n",
    "plt.yticks(range(len(code_nm_list)),data.columns)    \n",
    "plt.colorbar()\n",
    "plt.show()"
   ]
  },
  {
   "cell_type": "code",
   "execution_count": 13,
   "id": "56a0f864",
   "metadata": {},
   "outputs": [],
   "source": [
    "# 각 자산의 평균 가격을 기준으로 무작위 Weight를 지정한다.\n",
    "\n",
    "num_trials = 1000\n",
    "W = np.random.rand(num_trials, np.size(weights))    \n",
    "W = W/np.sum(W,axis=1).reshape(num_trials,1)  #normalize\n",
    "\n",
    "pv = np.zeros(num_trials)   #portoflio value  w'v\n",
    "ps = np.zeros(num_trials)   #portfolio sigma: sqrt(w'Sw)\n",
    "\n",
    "avg_price = data.mean().values\n",
    "adj_price = avg_price\n",
    "\n",
    "for i in range(num_trials):\n",
    "    pv[i] = np.sum(adj_price * W[i,:])\n",
    "    ps[i] = np.sqrt(np.dot(W[i,:].T, np.dot(Sigma, W[i,:])))\n",
    "\n",
    "points = np.vstack((ps,pv)).T\n",
    "hull = ConvexHull(points)"
   ]
  },
  {
   "cell_type": "code",
   "execution_count": 14,
   "id": "f20aa3be",
   "metadata": {},
   "outputs": [],
   "source": [
    "# plt.figure()\n",
    "# plt.scatter(ps, pv, marker='o', color='b', linewidth = '3.0', label = 'tangent portfolio')\n",
    "# plt.scatter(volatility, np.sum(adj_price * weights), marker = 's', color = 'r', linewidth = '3.0', label = 'current')\n",
    "# plt.plot(points[hull.vertices,0], points[hull.vertices,1], linewidth = '2.0')    \n",
    "# plt.title('expected return vs volatility')\n",
    "# plt.ylabel('expected price')\n",
    "# plt.xlabel('portfolio std dev')\n",
    "# plt.legend()\n",
    "# plt.grid(True)\n",
    "# plt.show()"
   ]
  },
  {
   "cell_type": "code",
   "execution_count": 15,
   "id": "d3ed5ed6",
   "metadata": {},
   "outputs": [
    {
     "name": "stdout",
     "output_type": "stream",
     "text": [
      "top-5 closest to query portfolios:\n",
      "values:  [75660.7236792  75113.4765173  77942.89888245 83646.7764135\n",
      " 81028.63315093]\n",
      "sigmas:  [17840.83166146 17705.48607135 18443.3035328  20218.07842545\n",
      " 19069.90618183]\n"
     ]
    }
   ],
   "source": [
    "knn = 5    \n",
    "kdt = KDTree(points)\n",
    "query_point = np.array([80000, 60000]).reshape(1,-1) # 위 그래프에서 현재 포인트(red)를 지정한다.\n",
    "kdt_dist, kdt_idx = kdt.query(query_point,k=knn)\n",
    "print(\"top-%d closest to query portfolios:\" %knn)\n",
    "print(\"values: \", pv[kdt_idx.ravel()])\n",
    "print(\"sigmas: \", ps[kdt_idx.ravel()])"
   ]
  },
  {
   "cell_type": "code",
   "execution_count": 35,
   "id": "e3ebf41d",
   "metadata": {},
   "outputs": [
    {
     "name": "stdout",
     "output_type": "stream",
     "text": [
      "{'markowitz': {'stk_nm': 3, 'stk_cd': ['005930', '035720', '003490'], 'stk_wt': [0.31824283836975004, 0.3524289599179429, 0.32932820171230703]}}\n"
     ]
    }
   ],
   "source": [
    "marko_dict = {\"markowitz\":{\"stk_nm\":num_stock, \"stk_cd\":code_list, \"stk_wt\":weight_list}}\n",
    "print(marko_dict)"
   ]
  },
  {
   "cell_type": "code",
   "execution_count": 36,
   "id": "b8010d29",
   "metadata": {
    "scrolled": false
   },
   "outputs": [
    {
     "name": "stdout",
     "output_type": "stream",
     "text": [
      "{\n",
      "    \"markowitz\": {\n",
      "        \"stk_nm\": 3,\n",
      "        \"stk_cd\": [\n",
      "            \"005930\",\n",
      "            \"035720\",\n",
      "            \"003490\"\n",
      "        ],\n",
      "        \"stk_wt\": [\n",
      "            0.31824283836975004,\n",
      "            0.3524289599179429,\n",
      "            0.32932820171230703\n",
      "        ]\n",
      "    }\n",
      "}\n"
     ]
    }
   ],
   "source": [
    "import json\n",
    "\n",
    "marko_json = json.dumps(marko_dict, indent=4)\n",
    "print(marko_json)"
   ]
  }
 ],
 "metadata": {
  "kernelspec": {
   "display_name": "Python 3",
   "language": "python",
   "name": "python3"
  },
  "language_info": {
   "codemirror_mode": {
    "name": "ipython",
    "version": 3
   },
   "file_extension": ".py",
   "mimetype": "text/x-python",
   "name": "python",
   "nbconvert_exporter": "python",
   "pygments_lexer": "ipython3",
   "version": "3.6.5"
  }
 },
 "nbformat": 4,
 "nbformat_minor": 5
}
