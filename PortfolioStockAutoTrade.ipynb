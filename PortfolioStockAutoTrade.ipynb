{
 "cells": [
  {
   "cell_type": "code",
   "execution_count": 4,
   "id": "94fe2f71",
   "metadata": {},
   "outputs": [],
   "source": [
    "import requests\n",
    "import json\n",
    "import datetime\n",
    "import time\n",
    "import yaml"
   ]
  },
  {
   "cell_type": "code",
   "execution_count": 5,
   "id": "da802083",
   "metadata": {},
   "outputs": [
    {
     "name": "stdout",
     "output_type": "stream",
     "text": [
      "['028670', '019170', '011810', '035720']\n",
      "['0.2415624124477316', '0.2675114079874779', '0.24997676397125754', '0.2409494155935329']\n"
     ]
    }
   ],
   "source": [
    "file_path=\"C:\\koreainvestment-autotrade-main\\portfolioResult.json\"\n",
    "\n",
    "with open(file_path, 'r', encoding='utf-8') as f:\n",
    "    json_data = json.load(f)\n",
    "\n",
    "\n",
    "code_list=[]\n",
    "for stock in json_data['stock']:\n",
    "    code=list(stock.values())[0]\n",
    "    stock_code = \"\".join(code)\n",
    "    code_list.append(stock_code)\n",
    "    \n",
    "print(code_list)\n",
    "\n",
    "weight_list=[]\n",
    "for stock in json_data['stock']:\n",
    "    weight=list(stock.values())[1]\n",
    "    stock_weight = \"\".join(str(weight))\n",
    "    weight_list.append(stock_weight)\n",
    "    \n",
    "print(weight_list)\n",
    "\n"
   ]
  },
  {
   "cell_type": "code",
   "execution_count": 6,
   "id": "289a9eb0",
   "metadata": {},
   "outputs": [
    {
     "name": "stdout",
     "output_type": "stream",
     "text": [
      "원하는 seed값을 적으시오: 1000000\n"
     ]
    },
    {
     "data": {
      "text/plain": [
       "'1000000'"
      ]
     },
     "execution_count": 6,
     "metadata": {},
     "output_type": "execute_result"
    }
   ],
   "source": [
    "seed = input(\"원하는 seed값을 적으시오: \")\n",
    "seed"
   ]
  },
  {
   "cell_type": "code",
   "execution_count": 7,
   "id": "5dcdf493",
   "metadata": {},
   "outputs": [
    {
     "name": "stdout",
     "output_type": "stream",
     "text": [
      "[241562, 267511, 249976, 240949]\n"
     ]
    }
   ],
   "source": [
    "seed_list=[]\n",
    "i=0    \n",
    "\n",
    "for i in range(len(weight_list)):\n",
    "    seed_list.append(float(weight_list[i])*float(seed))\n",
    "\n",
    "for i in range(len(seed_list)):\n",
    "    seed_list[i] = int(seed_list[i])\n",
    "\n",
    "print(seed_list)  "
   ]
  },
  {
   "cell_type": "code",
   "execution_count": 8,
   "id": "8177885f",
   "metadata": {},
   "outputs": [],
   "source": [
    "with open(\"C:\\koreainvestment-autotrade-main\\config.yaml\", encoding='UTF-8') as f:\n",
    "    _cfg = yaml.load(f, Loader=yaml.FullLoader)\n",
    "    \n",
    "APP_KEY = _cfg['APP_KEY']\n",
    "APP_SECRET = _cfg['APP_SECRET']\n",
    "ACCESS_TOKEN = \"\"\n",
    "CANO = _cfg['CANO']\n",
    "ACNT_PRDT_CD = _cfg['ACNT_PRDT_CD']\n",
    "DISCORD_WEBHOOK_URL = _cfg['DISCORD_WEBHOOK_URL']\n",
    "URL_BASE = _cfg['URL_BASE']"
   ]
  },
  {
   "cell_type": "code",
   "execution_count": 9,
   "id": "9eb697d9",
   "metadata": {},
   "outputs": [],
   "source": [
    "def send_message(msg):\n",
    "    \"\"\"디스코드 메세지 전송\"\"\"\n",
    "    now = datetime.datetime.now()\n",
    "    message = {\"content\": f\"[{now.strftime('%Y-%m-%d %H:%M:%S')}] {str(msg)}\"}\n",
    "    requests.post(DISCORD_WEBHOOK_URL, data=message)\n",
    "    print(message)"
   ]
  },
  {
   "cell_type": "code",
   "execution_count": 10,
   "id": "3e2e44c6",
   "metadata": {},
   "outputs": [],
   "source": [
    "def get_access_token():\n",
    "    \"\"\"토큰 발급\"\"\"\n",
    "    headers = {\"content-type\": \"application/json\"}\n",
    "    body = {\"grant_type\": \"client_credentials\",\n",
    "            \"appkey\": APP_KEY,\n",
    "            \"appsecret\": APP_SECRET}\n",
    "    PATH = \"oauth2/tokenP\"\n",
    "    URL = f\"{URL_BASE}/{PATH}\"\n",
    "    res = requests.post(URL, headers=headers, data=json.dumps(body))\n",
    "    ACCESS_TOKEN = res.json()[\"access_token\"]\n",
    "    return ACCESS_TOKEN"
   ]
  },
  {
   "cell_type": "code",
   "execution_count": 11,
   "id": "79909dc0",
   "metadata": {},
   "outputs": [],
   "source": [
    "def hashkey(datas):\n",
    "    \"\"\"암호화\"\"\"\n",
    "    PATH = \"uapi/hashkey\"\n",
    "    URL = f\"{URL_BASE}/{PATH}\"\n",
    "    headers = {\n",
    "        'content-Type': 'application/json',\n",
    "        'appKey': APP_KEY,\n",
    "        'appSecret': APP_SECRET,\n",
    "    }\n",
    "    res = requests.post(URL, headers=headers, data=json.dumps(datas))\n",
    "    hashkey = res.json()[\"HASH\"]\n",
    "    return hashkey"
   ]
  },
  {
   "cell_type": "code",
   "execution_count": 12,
   "id": "ee4b0733",
   "metadata": {},
   "outputs": [],
   "source": [
    "def get_current_price(code):\n",
    "    \"\"\"현재가 조회\"\"\"\n",
    "    PATH = \"uapi/domestic-stock/v1/quotations/inquire-price\"\n",
    "    URL = f\"{URL_BASE}/{PATH}\"\n",
    "    headers = {\"Content-Type\": \"application/json\",\n",
    "               \"authorization\": f\"Bearer {ACCESS_TOKEN}\",\n",
    "               \"appKey\": APP_KEY,\n",
    "               \"appSecret\": APP_SECRET,\n",
    "               \"tr_id\": \"FHKST01010100\"}\n",
    "    params = {\n",
    "        \"fid_cond_mrkt_div_code\": \"J\",\n",
    "        \"fid_input_iscd\": code,\n",
    "    }\n",
    "    res = requests.get(URL, headers=headers, params=params)\n",
    "    return int(res.json()['output']['stck_prpr'])"
   ]
  },
  {
   "cell_type": "code",
   "execution_count": 13,
   "id": "fdff7498",
   "metadata": {},
   "outputs": [],
   "source": [
    "def get_stock_balance():\n",
    "    \"\"\"주식 잔고조회\"\"\"\n",
    "    PATH = \"uapi/domestic-stock/v1/trading/inquire-balance\"\n",
    "    URL = f\"{URL_BASE}/{PATH}\"\n",
    "    headers = {\"Content-Type\": \"application/json\",\n",
    "               \"authorization\": f\"Bearer {ACCESS_TOKEN}\",\n",
    "               \"appKey\": APP_KEY,\n",
    "               \"appSecret\": APP_SECRET,\n",
    "               \"tr_id\": \"TTTC8434R\",\n",
    "               \"custtype\": \"P\",\n",
    "               }\n",
    "    params = {\n",
    "        \"CANO\": CANO,\n",
    "        \"ACNT_PRDT_CD\": ACNT_PRDT_CD,\n",
    "        \"AFHR_FLPR_YN\": \"N\",\n",
    "        \"OFL_YN\": \"\",\n",
    "        \"INQR_DVSN\": \"02\",\n",
    "        \"UNPR_DVSN\": \"01\",\n",
    "        \"FUND_STTL_ICLD_YN\": \"N\",\n",
    "        \"FNCG_AMT_AUTO_RDPT_YN\": \"N\",\n",
    "        \"PRCS_DVSN\": \"01\",\n",
    "        \"CTX_AREA_FK100\": \"\",\n",
    "        \"CTX_AREA_NK100\": \"\"\n",
    "    }\n",
    "    res = requests.get(URL, headers=headers, params=params)\n",
    "    stock_list = res.json()['output1']\n",
    "    evaluation = res.json()['output2']\n",
    "    stock_dict = {}\n",
    "    send_message(f\"====주식 보유잔고====\")\n",
    "    for stock in stock_list:\n",
    "        if int(stock['hldg_qty']) > 0:\n",
    "            stock_dict[stock['pdno']] = stock['hldg_qty']\n",
    "            send_message(\n",
    "                f\"{stock['prdt_name']}({stock['pdno']}): {stock['hldg_qty']}주\")\n",
    "            time.sleep(0.1)\n",
    "    send_message(f\"주식 평가 금액: {evaluation[0]['scts_evlu_amt']}원\")\n",
    "    time.sleep(0.1)\n",
    "    send_message(f\"평가 손익 합계: {evaluation[0]['evlu_pfls_smtl_amt']}원\")\n",
    "    time.sleep(0.1)\n",
    "    send_message(f\"총 평가 금액: {evaluation[0]['tot_evlu_amt']}원\")\n",
    "    time.sleep(0.1)\n",
    "    send_message(f\"=================\")\n",
    "    return stock_dict\n",
    "    "
   ]
  },
  {
   "cell_type": "code",
   "execution_count": 14,
   "id": "22415554",
   "metadata": {},
   "outputs": [],
   "source": [
    "def get_balance():\n",
    "    \"\"\"현금 잔고조회\"\"\"\n",
    "    PATH = \"uapi/domestic-stock/v1/trading/inquire-psbl-order\"\n",
    "    URL = f\"{URL_BASE}/{PATH}\"\n",
    "    headers = {\"Content-Type\": \"application/json\",\n",
    "               \"authorization\": f\"Bearer {ACCESS_TOKEN}\",\n",
    "               \"appKey\": APP_KEY,\n",
    "               \"appSecret\": APP_SECRET,\n",
    "               \"tr_id\": \"TTTC8908R\",\n",
    "               \"custtype\": \"P\",\n",
    "               }\n",
    "    params = {\n",
    "        \"CANO\": CANO,\n",
    "        \"ACNT_PRDT_CD\": ACNT_PRDT_CD,\n",
    "        \"PDNO\": \"005930\",\n",
    "        \"ORD_UNPR\": \"65500\",\n",
    "        \"ORD_DVSN\": \"01\",\n",
    "        \"CMA_EVLU_AMT_ICLD_YN\": \"Y\",\n",
    "        \"OVRS_ICLD_YN\": \"Y\"\n",
    "    }\n",
    "    res = requests.get(URL, headers=headers, params=params)\n",
    "    cash = res.json()['output']['ord_psbl_cash']\n",
    "    send_message(f\"주문 가능 현금 잔고: {cash}원\")\n",
    "    return int(cash)"
   ]
  },
  {
   "cell_type": "code",
   "execution_count": 15,
   "id": "7941db8b",
   "metadata": {},
   "outputs": [],
   "source": [
    "def buy(code, qty):\n",
    "    \"\"\"주식 시장가 매수\"\"\"\n",
    "    PATH = \"uapi/domestic-stock/v1/trading/order-cash\"\n",
    "    URL = f\"{URL_BASE}/{PATH}\"\n",
    "    data = {\n",
    "        \"CANO\": CANO,\n",
    "        \"ACNT_PRDT_CD\": ACNT_PRDT_CD,\n",
    "        \"PDNO\": code,\n",
    "        \"ORD_DVSN\": \"01\",\n",
    "        \"ORD_QTY\": str(int(qty)),\n",
    "        \"ORD_UNPR\": \"0\",\n",
    "    }\n",
    "    headers = {\"Content-Type\": \"application/json\",\n",
    "               \"authorization\": f\"Bearer {ACCESS_TOKEN}\",\n",
    "               \"appKey\": APP_KEY,\n",
    "               \"appSecret\": APP_SECRET,\n",
    "               \"tr_id\":\"VTTC0802U\",\n",
    "               \"custtype\": \"P\",\n",
    "               \"hashkey\": hashkey(data)\n",
    "               }\n",
    "    res = requests.post(URL, headers=headers, data=json.dumps(data))\n",
    "    if res.json()['rt_cd'] == '0':\n",
    "        send_message(f\"[매수 성공]{str(res.json())}\")\n",
    "        return True\n",
    "    else:\n",
    "        send_message(f\"[매수 실패]{str(res.json())}\")\n",
    "        return False"
   ]
  },
  {
   "cell_type": "code",
   "execution_count": 20,
   "id": "ace3a9da",
   "metadata": {},
   "outputs": [
    {
     "name": "stdout",
     "output_type": "stream",
     "text": [
      "{'content': '[2022-11-16 15:51:40] ===국내 주식 자동매매 프로그램을 시작합니다==='}\n",
      "{'content': '[2022-11-16 15:51:41] 현재가:5370원의 종목 코드:028670를 매수를 시도합니다.'}\n",
      "{'content': \"[2022-11-16 15:51:42] [매수 실패]{'rt_cd': '1', 'msg_cd': '40580000', 'msg1': '모의투자 장종료 입니다.'}\"}\n",
      "{'content': '[2022-11-16 15:51:43] 현재가:5370원의 종목 코드:028670를 매수를 시도합니다.'}\n",
      "{'content': \"[2022-11-16 15:51:44] [매수 실패]{'rt_cd': '1', 'msg_cd': '40580000', 'msg1': '모의투자 장종료 입니다.'}\"}\n",
      "{'content': '[2022-11-16 15:51:45] 현재가:5370원의 종목 코드:028670를 매수를 시도합니다.'}\n",
      "{'content': \"[2022-11-16 15:51:46] [매수 실패]{'rt_cd': '1', 'msg_cd': '40580000', 'msg1': '모의투자 장종료 입니다.'}\"}\n",
      "{'content': '[2022-11-16 15:51:48] 현재가:5370원의 종목 코드:028670를 매수를 시도합니다.'}\n",
      "{'content': \"[2022-11-16 15:51:49] [매수 실패]{'rt_cd': '1', 'msg_cd': '40580000', 'msg1': '모의투자 장종료 입니다.'}\"}\n",
      "{'content': '[2022-11-16 15:51:50] 현재가:28850원의 종목 코드:019170를 매수를 시도합니다.'}\n",
      "{'content': \"[2022-11-16 15:51:51] [매수 실패]{'rt_cd': '1', 'msg_cd': '40580000', 'msg1': '모의투자 장종료 입니다.'}\"}\n",
      "{'content': '[2022-11-16 15:51:53] 현재가:28850원의 종목 코드:019170를 매수를 시도합니다.'}\n",
      "{'content': \"[2022-11-16 15:51:53] [매수 실패]{'rt_cd': '1', 'msg_cd': '40580000', 'msg1': '모의투자 장종료 입니다.'}\"}\n",
      "{'content': '[2022-11-16 15:51:55] 현재가:28850원의 종목 코드:019170를 매수를 시도합니다.'}\n",
      "{'content': \"[2022-11-16 15:51:55] [매수 실패]{'rt_cd': '1', 'msg_cd': '40580000', 'msg1': '모의투자 장종료 입니다.'}\"}\n",
      "{'content': '[2022-11-16 15:51:57] 현재가:28850원의 종목 코드:019170를 매수를 시도합니다.'}\n",
      "{'content': \"[2022-11-16 15:51:58] [매수 실패]{'rt_cd': '1', 'msg_cd': '40580000', 'msg1': '모의투자 장종료 입니다.'}\"}\n",
      "{'content': '[2022-11-16 15:51:59] 현재가:6700원의 종목 코드:011810를 매수를 시도합니다.'}\n",
      "{'content': \"[2022-11-16 15:52:00] [매수 실패]{'rt_cd': '1', 'msg_cd': '40580000', 'msg1': '모의투자 장종료 입니다.'}\"}\n",
      "{'content': '[2022-11-16 15:52:01] 현재가:6700원의 종목 코드:011810를 매수를 시도합니다.'}\n",
      "{'content': \"[2022-11-16 15:52:02] [매수 실패]{'rt_cd': '1', 'msg_cd': '40580000', 'msg1': '모의투자 장종료 입니다.'}\"}\n",
      "{'content': '[2022-11-16 15:52:03] 현재가:6700원의 종목 코드:011810를 매수를 시도합니다.'}\n",
      "{'content': \"[2022-11-16 15:52:04] [매수 실패]{'rt_cd': '1', 'msg_cd': '40580000', 'msg1': '모의투자 장종료 입니다.'}\"}\n",
      "{'content': '[2022-11-16 15:52:06] 현재가:6700원의 종목 코드:011810를 매수를 시도합니다.'}\n",
      "{'content': \"[2022-11-16 15:52:06] [매수 실패]{'rt_cd': '1', 'msg_cd': '40580000', 'msg1': '모의투자 장종료 입니다.'}\"}\n",
      "{'content': '[2022-11-16 15:52:08] 현재가:58600원의 종목 코드:035720를 매수를 시도합니다.'}\n",
      "{'content': \"[2022-11-16 15:52:08] [매수 실패]{'rt_cd': '1', 'msg_cd': '40580000', 'msg1': '모의투자 장종료 입니다.'}\"}\n",
      "{'content': '[2022-11-16 15:52:10] 현재가:58600원의 종목 코드:035720를 매수를 시도합니다.'}\n",
      "{'content': \"[2022-11-16 15:52:10] [매수 실패]{'rt_cd': '1', 'msg_cd': '40580000', 'msg1': '모의투자 장종료 입니다.'}\"}\n",
      "{'content': '[2022-11-16 15:52:12] 현재가:58600원의 종목 코드:035720를 매수를 시도합니다.'}\n",
      "{'content': \"[2022-11-16 15:52:13] [매수 실패]{'rt_cd': '1', 'msg_cd': '40580000', 'msg1': '모의투자 장종료 입니다.'}\"}\n",
      "{'content': '[2022-11-16 15:52:14] 현재가:58600원의 종목 코드:035720를 매수를 시도합니다.'}\n",
      "{'content': \"[2022-11-16 15:52:15] [매수 실패]{'rt_cd': '1', 'msg_cd': '40580000', 'msg1': '모의투자 장종료 입니다.'}\"}\n"
     ]
    }
   ],
   "source": [
    "# 자동매매 시작\n",
    "try:\n",
    "    #API 사용을 위해 발급받는 토큰\n",
    "    ACCESS_TOKEN = get_access_token()\n",
    "    \n",
    "    bought_list = [] # 매수 완료된 종목 리스트\n",
    "\n",
    "    target_buy_count = 10 \n",
    "    buy_percent = 0.33\n",
    "   \n",
    "    send_message(f\"===국내 주식 자동매매 프로그램을 시작합니다===\")\n",
    "    \n",
    "    t_now = datetime.datetime.now()\n",
    "    t_start = t_now.replace(hour=9, minute=0, second=0, microsecond=0)\n",
    "    t_exit = t_now.replace(hour=16, minute=30, second=0,microsecond=0)\n",
    "    today = datetime.datetime.today().weekday()\n",
    "    \n",
    "    if today == 5 or today == 6:  # 토요일이나 일요일이면 프로그램 자동 종료\n",
    "        send_message(\"주말이므로 매매가 불가능합니다.\")\n",
    "    if t_start < t_now < t_exit :\n",
    "        for code in code_list:\n",
    "            for i in range(len(code_list)):\n",
    "                if len(bought_list) < target_buy_count:\n",
    "                    buy_qty = 0\n",
    "                    current_price = get_current_price(code)# 현재 가격\n",
    "                    buy_qty = int(seed_list[i] // current_price)\n",
    "                    if buy_qty > 0:\n",
    "                            send_message(f\"현재가:{current_price}원의 종목 코드:{code}를 매수를 시도합니다.\")\n",
    "                            result = buy(code, buy_qty)\n",
    "                            if result:\n",
    "                                soldout = False\n",
    "                    time.sleep(1)\n",
    "        time.sleep(1)\n",
    "    if (t_exit < t_now)|(t_start > t_now):  # PM 03:30 ~ :프로그램 종료\n",
    "        send_message(\"주식 장이 마감되었습니다.\")    \n",
    "\n",
    "except Exception as e:\n",
    "    send_message(f\"오류발생.\", e)\n",
    "    time.sleep(1)"
   ]
  },
  {
   "cell_type": "code",
   "execution_count": 21,
   "id": "a54f7692",
   "metadata": {},
   "outputs": [
    {
     "name": "stdout",
     "output_type": "stream",
     "text": [
      "[['028670', '019170', '011810', '035720'], '1000000', 4, 58600]\n"
     ]
    }
   ],
   "source": [
    "PAutoTrade_info = []\n",
    "\n",
    "PAutoTrade_info.append(code_list) # 종목\n",
    "PAutoTrade_info.append(seed) # 시드머니\n",
    "PAutoTrade_info.append(buy_qty) #종목 당 매수 개수\n",
    "PAutoTrade_info.append(current_price) # 현재가\n",
    "\n",
    "print(PAutoTrade_info)"
   ]
  },
  {
   "cell_type": "code",
   "execution_count": 22,
   "id": "bb8f9777",
   "metadata": {},
   "outputs": [
    {
     "name": "stdout",
     "output_type": "stream",
     "text": [
      "{'PAutoTrade': {'stk_cd': ['028670', '019170', '011810', '035720'], 'seed': '1000000', 'stk_buyN': 4, 'current_price': 58600}}\n"
     ]
    }
   ],
   "source": [
    "PAT_dict = {\"PAutoTrade\":{\"stk_cd\":code_list, \"seed\":seed, \"stk_buyN\":buy_qty, \"current_price\":current_price}}\n",
    "print(PAT_dict)"
   ]
  },
  {
   "cell_type": "code",
   "execution_count": 23,
   "id": "80f74b73",
   "metadata": {},
   "outputs": [
    {
     "name": "stdout",
     "output_type": "stream",
     "text": [
      "{\n",
      "    \"PAutoTrade\": {\n",
      "        \"stk_cd\": [\n",
      "            \"028670\",\n",
      "            \"019170\",\n",
      "            \"011810\",\n",
      "            \"035720\"\n",
      "        ],\n",
      "        \"seed\": \"1000000\",\n",
      "        \"stk_buyN\": 4,\n",
      "        \"current_price\": 58600\n",
      "    }\n",
      "}\n"
     ]
    }
   ],
   "source": [
    "import json\n",
    "\n",
    "PAT_json = json.dumps(PAT_dict, indent=4)\n",
    "print(PAT_json)"
   ]
  },
  {
   "cell_type": "code",
   "execution_count": null,
   "id": "c2240775",
   "metadata": {},
   "outputs": [],
   "source": []
  }
 ],
 "metadata": {
  "kernelspec": {
   "display_name": "Python 3 (ipykernel)",
   "language": "python",
   "name": "python3"
  },
  "language_info": {
   "codemirror_mode": {
    "name": "ipython",
    "version": 3
   },
   "file_extension": ".py",
   "mimetype": "text/x-python",
   "name": "python",
   "nbconvert_exporter": "python",
   "pygments_lexer": "ipython3",
   "version": "3.9.12"
  }
 },
 "nbformat": 4,
 "nbformat_minor": 5
}
